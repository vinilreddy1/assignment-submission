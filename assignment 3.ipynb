{
  "nbformat": 4,
  "nbformat_minor": 0,
  "metadata": {
    "colab": {
      "name": "Untitled2.ipynb",
      "provenance": [],
      "authorship_tag": "ABX9TyPjegwLZ89DRijvlFrVjBp8",
      "include_colab_link": true
    },
    "kernelspec": {
      "name": "python3",
      "display_name": "Python 3"
    }
  },
  "cells": [
    {
      "cell_type": "markdown",
      "metadata": {
        "id": "view-in-github",
        "colab_type": "text"
      },
      "source": [
        "<a href=\"https://colab.research.google.com/github/vinilreddy1/assignment-submission/blob/main/assignment%203.ipynb\" target=\"_parent\"><img src=\"https://colab.research.google.com/assets/colab-badge.svg\" alt=\"Open In Colab\"/></a>"
      ]
    },
    {
      "cell_type": "code",
      "metadata": {
        "colab": {
          "base_uri": "https://localhost:8080/"
        },
        "id": "To4W2bs8ykmq",
        "outputId": "26914000-4b94-49da-d4b7-7c2f520563cf"
      },
      "source": [
        "# A optimized school method based \r\n",
        "# Python3 program to check \r\n",
        "# if a number is prime \r\n",
        "\r\n",
        "\r\n",
        "def isPrime(n) : \r\n",
        "\r\n",
        "\t# Corner cases \r\n",
        "\tif (n <= 1) : \r\n",
        "\t\treturn False\r\n",
        "\tif (n <= 3) : \r\n",
        "\t\treturn True\r\n",
        "\r\n",
        "\t# This is checked so that we can skip \r\n",
        "\t# middle five numbers in below loop \r\n",
        "\tif (n % 2 == 0 or n % 3 == 0) : \r\n",
        "\t\treturn False\r\n",
        "\r\n",
        "\ti = 5\r\n",
        "\twhile(i * i <= n) : \r\n",
        "\t\tif (n % i == 0 or n % (i + 2) == 0) : \r\n",
        "\t\t\treturn False\r\n",
        "\t\ti = i + 6\r\n",
        "\r\n",
        "\treturn True\r\n",
        "\r\n",
        "\r\n",
        "# Driver Program \r\n",
        "if (isPrime(78)) : \r\n",
        "\tprint(\" true\") \r\n",
        "else : \r\n",
        "\tprint(\" false\") \r\n",
        "\r\n",
        "\t\r\n",
        "# This code is contributed \r\n",
        "# by Nikita Tiwari. \r\n"
      ],
      "execution_count": 25,
      "outputs": [
        {
          "output_type": "stream",
          "text": [
            " false\n"
          ],
          "name": "stdout"
        }
      ]
    },
    {
      "cell_type": "code",
      "metadata": {
        "id": "TDGV7a9hCF8n"
      },
      "source": [
        ""
      ],
      "execution_count": 4,
      "outputs": []
    }
  ]
}