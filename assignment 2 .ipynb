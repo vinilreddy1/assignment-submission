{
  "nbformat": 4,
  "nbformat_minor": 0,
  "metadata": {
    "colab": {
      "name": "day 3.ipynb",
      "provenance": [],
      "authorship_tag": "ABX9TyPfcAUNIHY6XkhMWBseHhkR",
      "include_colab_link": true
    },
    "kernelspec": {
      "name": "python3",
      "display_name": "Python 3"
    }
  },
  "cells": [
    {
      "cell_type": "markdown",
      "metadata": {
        "id": "view-in-github",
        "colab_type": "text"
      },
      "source": [
        "<a href=\"https://colab.research.google.com/github/vinilreddy1/assignment-submission/blob/main/assignment%202%20.ipynb\" target=\"_parent\"><img src=\"https://colab.research.google.com/assets/colab-badge.svg\" alt=\"Open In Colab\"/></a>"
      ]
    },
    {
      "cell_type": "markdown",
      "metadata": {
        "id": "KubQ9w-Jcixw"
      },
      "source": [
        "assignment 2"
      ]
    },
    {
      "cell_type": "code",
      "metadata": {
        "colab": {
          "base_uri": "https://localhost:8080/"
        },
        "id": "sgHMh0M3Kd5E",
        "outputId": "4afde71a-f7a3-41c7-dab1-669e1f6280df"
      },
      "source": [
        "a=int(input());\r\n",
        "if a<=1000:\r\n",
        "  print(\"safe to land\")\r\n",
        "elif a>1000 and a<5000:\r\n",
        "  print(\"bring down to 1000\")\r\n",
        "else:\r\n",
        "    print(\"turn around\")"
      ],
      "execution_count": 45,
      "outputs": [
        {
          "output_type": "stream",
          "text": [
            "6500\n",
            "turn around\n"
          ],
          "name": "stdout"
        }
      ]
    }
  ]
}